{
 "cells": [
  {
   "cell_type": "code",
   "execution_count": 2,
   "metadata": {
    "collapsed": false
   },
   "outputs": [],
   "source": [
    "import json\n",
    "import numpy as np\n",
    "import pandas as pd\n",
    "from elasticsearch import Elasticsearch\n",
    "from bokeh.charts import Bar, output_file, show\n",
    "\n",
    "es = Elasticsearch([{'host':'localhost','port':9200}])\n",
    "#print json.dumps(es.info(),indent=2)"
   ]
  },
  {
   "cell_type": "code",
   "execution_count": 3,
   "metadata": {
    "collapsed": false,
    "scrolled": true
   },
   "outputs": [
    {
     "ename": "ConnectionTimeout",
     "evalue": "ConnectionTimeout caused by - ReadTimeoutError(HTTPConnectionPool(host='localhost', port=9200): Read timed out. (read timeout=10))",
     "output_type": "error",
     "traceback": [
      "\u001b[0;31m---------------------------------------------------------------------------\u001b[0m",
      "\u001b[0;31mConnectionTimeout\u001b[0m                         Traceback (most recent call last)",
      "\u001b[0;32m<ipython-input-3-cd7e1c37f3bf>\u001b[0m in \u001b[0;36m<module>\u001b[0;34m()\u001b[0m\n\u001b[1;32m      8\u001b[0m             },\n\u001b[1;32m      9\u001b[0m             \u001b[0;34m\"from\"\u001b[0m\u001b[0;34m:\u001b[0m \u001b[0;36m0\u001b[0m\u001b[0;34m,\u001b[0m\u001b[0;34m\u001b[0m\u001b[0m\n\u001b[0;32m---> 10\u001b[0;31m             \u001b[0;34m\"size\"\u001b[0m\u001b[0;34m:\u001b[0m\u001b[0;36m1000\u001b[0m\u001b[0;34m\u001b[0m\u001b[0m\n\u001b[0m\u001b[1;32m     11\u001b[0m         }\n\u001b[1;32m     12\u001b[0m )\n",
      "\u001b[0;32m/usr/local/lib/python2.7/dist-packages/elasticsearch/client/utils.pyc\u001b[0m in \u001b[0;36m_wrapped\u001b[0;34m(*args, **kwargs)\u001b[0m\n\u001b[1;32m     69\u001b[0m                 \u001b[0;32mif\u001b[0m \u001b[0mp\u001b[0m \u001b[0;32min\u001b[0m \u001b[0mkwargs\u001b[0m\u001b[0;34m:\u001b[0m\u001b[0;34m\u001b[0m\u001b[0m\n\u001b[1;32m     70\u001b[0m                     \u001b[0mparams\u001b[0m\u001b[0;34m[\u001b[0m\u001b[0mp\u001b[0m\u001b[0;34m]\u001b[0m \u001b[0;34m=\u001b[0m \u001b[0mkwargs\u001b[0m\u001b[0;34m.\u001b[0m\u001b[0mpop\u001b[0m\u001b[0;34m(\u001b[0m\u001b[0mp\u001b[0m\u001b[0;34m)\u001b[0m\u001b[0;34m\u001b[0m\u001b[0m\n\u001b[0;32m---> 71\u001b[0;31m             \u001b[0;32mreturn\u001b[0m \u001b[0mfunc\u001b[0m\u001b[0;34m(\u001b[0m\u001b[0;34m*\u001b[0m\u001b[0margs\u001b[0m\u001b[0;34m,\u001b[0m \u001b[0mparams\u001b[0m\u001b[0;34m=\u001b[0m\u001b[0mparams\u001b[0m\u001b[0;34m,\u001b[0m \u001b[0;34m**\u001b[0m\u001b[0mkwargs\u001b[0m\u001b[0;34m)\u001b[0m\u001b[0;34m\u001b[0m\u001b[0m\n\u001b[0m\u001b[1;32m     72\u001b[0m         \u001b[0;32mreturn\u001b[0m \u001b[0m_wrapped\u001b[0m\u001b[0;34m\u001b[0m\u001b[0m\n\u001b[1;32m     73\u001b[0m     \u001b[0;32mreturn\u001b[0m \u001b[0m_wrapper\u001b[0m\u001b[0;34m\u001b[0m\u001b[0m\n",
      "\u001b[0;32m/usr/local/lib/python2.7/dist-packages/elasticsearch/client/__init__.pyc\u001b[0m in \u001b[0;36msearch\u001b[0;34m(self, index, doc_type, body, params)\u001b[0m\n\u001b[1;32m    567\u001b[0m             \u001b[0mindex\u001b[0m \u001b[0;34m=\u001b[0m \u001b[0;34m'_all'\u001b[0m\u001b[0;34m\u001b[0m\u001b[0m\n\u001b[1;32m    568\u001b[0m         return self.transport.perform_request('GET', _make_path(index,\n\u001b[0;32m--> 569\u001b[0;31m             doc_type, '_search'), params=params, body=body)\n\u001b[0m\u001b[1;32m    570\u001b[0m \u001b[0;34m\u001b[0m\u001b[0m\n\u001b[1;32m    571\u001b[0m     @query_params('_source', '_source_exclude', '_source_include',\n",
      "\u001b[0;32m/usr/local/lib/python2.7/dist-packages/elasticsearch/transport.pyc\u001b[0m in \u001b[0;36mperform_request\u001b[0;34m(self, method, url, params, body)\u001b[0m\n\u001b[1;32m    325\u001b[0m \u001b[0;34m\u001b[0m\u001b[0m\n\u001b[1;32m    326\u001b[0m             \u001b[0;32mtry\u001b[0m\u001b[0;34m:\u001b[0m\u001b[0;34m\u001b[0m\u001b[0m\n\u001b[0;32m--> 327\u001b[0;31m                 \u001b[0mstatus\u001b[0m\u001b[0;34m,\u001b[0m \u001b[0mheaders\u001b[0m\u001b[0;34m,\u001b[0m \u001b[0mdata\u001b[0m \u001b[0;34m=\u001b[0m \u001b[0mconnection\u001b[0m\u001b[0;34m.\u001b[0m\u001b[0mperform_request\u001b[0m\u001b[0;34m(\u001b[0m\u001b[0mmethod\u001b[0m\u001b[0;34m,\u001b[0m \u001b[0murl\u001b[0m\u001b[0;34m,\u001b[0m \u001b[0mparams\u001b[0m\u001b[0;34m,\u001b[0m \u001b[0mbody\u001b[0m\u001b[0;34m,\u001b[0m \u001b[0mignore\u001b[0m\u001b[0;34m=\u001b[0m\u001b[0mignore\u001b[0m\u001b[0;34m,\u001b[0m \u001b[0mtimeout\u001b[0m\u001b[0;34m=\u001b[0m\u001b[0mtimeout\u001b[0m\u001b[0;34m)\u001b[0m\u001b[0;34m\u001b[0m\u001b[0m\n\u001b[0m\u001b[1;32m    328\u001b[0m \u001b[0;34m\u001b[0m\u001b[0m\n\u001b[1;32m    329\u001b[0m             \u001b[0;32mexcept\u001b[0m \u001b[0mTransportError\u001b[0m \u001b[0;32mas\u001b[0m \u001b[0me\u001b[0m\u001b[0;34m:\u001b[0m\u001b[0;34m\u001b[0m\u001b[0m\n",
      "\u001b[0;32m/usr/local/lib/python2.7/dist-packages/elasticsearch/connection/http_urllib3.pyc\u001b[0m in \u001b[0;36mperform_request\u001b[0;34m(self, method, url, params, body, timeout, ignore)\u001b[0m\n\u001b[1;32m    115\u001b[0m         \u001b[0;32mexcept\u001b[0m \u001b[0mReadTimeoutError\u001b[0m \u001b[0;32mas\u001b[0m \u001b[0me\u001b[0m\u001b[0;34m:\u001b[0m\u001b[0;34m\u001b[0m\u001b[0m\n\u001b[1;32m    116\u001b[0m             \u001b[0mself\u001b[0m\u001b[0;34m.\u001b[0m\u001b[0mlog_request_fail\u001b[0m\u001b[0;34m(\u001b[0m\u001b[0mmethod\u001b[0m\u001b[0;34m,\u001b[0m \u001b[0mfull_url\u001b[0m\u001b[0;34m,\u001b[0m \u001b[0murl\u001b[0m\u001b[0;34m,\u001b[0m \u001b[0mbody\u001b[0m\u001b[0;34m,\u001b[0m \u001b[0mtime\u001b[0m\u001b[0;34m.\u001b[0m\u001b[0mtime\u001b[0m\u001b[0;34m(\u001b[0m\u001b[0;34m)\u001b[0m \u001b[0;34m-\u001b[0m \u001b[0mstart\u001b[0m\u001b[0;34m,\u001b[0m \u001b[0mexception\u001b[0m\u001b[0;34m=\u001b[0m\u001b[0me\u001b[0m\u001b[0;34m)\u001b[0m\u001b[0;34m\u001b[0m\u001b[0m\n\u001b[0;32m--> 117\u001b[0;31m             \u001b[0;32mraise\u001b[0m \u001b[0mConnectionTimeout\u001b[0m\u001b[0;34m(\u001b[0m\u001b[0;34m'TIMEOUT'\u001b[0m\u001b[0;34m,\u001b[0m \u001b[0mstr\u001b[0m\u001b[0;34m(\u001b[0m\u001b[0me\u001b[0m\u001b[0;34m)\u001b[0m\u001b[0;34m,\u001b[0m \u001b[0me\u001b[0m\u001b[0;34m)\u001b[0m\u001b[0;34m\u001b[0m\u001b[0m\n\u001b[0m\u001b[1;32m    118\u001b[0m         \u001b[0;32mexcept\u001b[0m \u001b[0mException\u001b[0m \u001b[0;32mas\u001b[0m \u001b[0me\u001b[0m\u001b[0;34m:\u001b[0m\u001b[0;34m\u001b[0m\u001b[0m\n\u001b[1;32m    119\u001b[0m             \u001b[0mself\u001b[0m\u001b[0;34m.\u001b[0m\u001b[0mlog_request_fail\u001b[0m\u001b[0;34m(\u001b[0m\u001b[0mmethod\u001b[0m\u001b[0;34m,\u001b[0m \u001b[0mfull_url\u001b[0m\u001b[0;34m,\u001b[0m \u001b[0murl\u001b[0m\u001b[0;34m,\u001b[0m \u001b[0mbody\u001b[0m\u001b[0;34m,\u001b[0m \u001b[0mtime\u001b[0m\u001b[0;34m.\u001b[0m\u001b[0mtime\u001b[0m\u001b[0;34m(\u001b[0m\u001b[0;34m)\u001b[0m \u001b[0;34m-\u001b[0m \u001b[0mstart\u001b[0m\u001b[0;34m,\u001b[0m \u001b[0mexception\u001b[0m\u001b[0;34m=\u001b[0m\u001b[0me\u001b[0m\u001b[0;34m)\u001b[0m\u001b[0;34m\u001b[0m\u001b[0m\n",
      "\u001b[0;31mConnectionTimeout\u001b[0m: ConnectionTimeout caused by - ReadTimeoutError(HTTPConnectionPool(host='localhost', port=9200): Read timed out. (read timeout=10))"
     ]
    }
   ],
   "source": [
    "response = es.search(\n",
    "    index=\"twitter2\",\n",
    "    body={\n",
    "            \"query\": {\n",
    "                \"term\": {\n",
    "                    \"text\": \"exploit\"\n",
    "                }\n",
    "            },\n",
    "            \"from\": 0,\n",
    "            \"size\":1000\n",
    "        }\n",
    ")\n",
    "#print json.dumps(response,indent=2)"
   ]
  },
  {
   "cell_type": "code",
   "execution_count": null,
   "metadata": {
    "collapsed": false,
    "scrolled": true
   },
   "outputs": [],
   "source": [
    "response = es.search(\n",
    "    index=\"twitter2\",\n",
    "    body={\n",
    "          \"query\": {\n",
    "              \"range\": {\n",
    "                  \"timestamp\": {\n",
    "                      \"gt\": \"2000-10-01T15:39:11.000Z\",\n",
    "                      \"lt\": \"2016-10-20T15:39:13.000Z\"\n",
    "                  }\n",
    "              }\n",
    "          },\n",
    "          \"from\": 0,\n",
    "          \"size\": 1000\n",
    "    }\n",
    ")\n",
    "#print json.dumps(response,indent=2)"
   ]
  },
  {
   "cell_type": "code",
   "execution_count": null,
   "metadata": {
    "collapsed": false
   },
   "outputs": [],
   "source": [
    "response = es.search(\n",
    "    index=\"twitter2\",\n",
    "    body={\n",
    "          \"query\": {\n",
    "            \"bool\": {\n",
    "              \"must\": [\n",
    "                {\n",
    "                  \"range\": {\n",
    "                    \"timestamp\": {\n",
    "                      \"gt\": \"2000-10-02T15:39:11.000Z\",\n",
    "                      \"lt\": \"2016-10-20T16:39:13.000Z\"\n",
    "                    }\n",
    "                  }\n",
    "                },\n",
    "                {\n",
    "                  \"term\": {\n",
    "                    \"text\": \"exploit\"\n",
    "                  }\n",
    "                }\n",
    "              ],\n",
    "              \"must_not\": [],\n",
    "              \"should\": []\n",
    "            }\n",
    "          },\n",
    "          \"from\": 0,\n",
    "          \"size\": 1000\n",
    "        }\n",
    ")\n",
    "# for tweet in response['hits']['hits']:\n",
    "#    print tweet['_source']['user']\n",
    "#    print tweet['_source']['text']\n",
    "#    print tweet['_source']['timestamp']\n",
    "#    print \"\\n\"\n"
   ]
  },
  {
   "cell_type": "code",
   "execution_count": 17,
   "metadata": {
    "collapsed": false
   },
   "outputs": [
    {
     "name": "stderr",
     "output_type": "stream",
     "text": [
      "INFO:elasticsearch:GET http://localhost:9200/twitter2/_search [status:200 request:0.022s]\n"
     ]
    }
   ],
   "source": [
    "response = es.search(\n",
    "    index=\"twitter2\",\n",
    "    body={\n",
    "        \"query\": {\n",
    "            \"term\": {\n",
    "                \"text\": \"exploits\"\n",
    "            }\n",
    "        },\n",
    "        \"size\" : 0,\n",
    "        \"aggs\": {\n",
    "            \"time\": {\n",
    "                \"date_histogram\": {\n",
    "                    \"field\": \"tweet.created_at\",\n",
    "                    \"interval\":\"month\"\n",
    "              },\n",
    "            \"aggs\":{\n",
    "                    \"name\":{\n",
    "                        \"terms\":{\n",
    "                            \"field\":\"tweet.uid\"\n",
    "                        }\n",
    "                    }\n",
    "                }\n",
    "            }\n",
    "        }\n",
    "    }\n",
    ")\n",
    "\n",
    "#print json.dumps(response,indent=2)\n",
    "#for user in response['aggregations']['time']['buckets']:\n",
    "#    print str(user['doc_count']) + \"\\t\" + str(user['key_as_string'])\n",
    "#    print str(user['doc_count']) + \"\\t\" + str(str(user['key_as_string']).split(' ')[:3])\n",
    "    "
   ]
  },
  {
   "cell_type": "code",
   "execution_count": 25,
   "metadata": {
    "collapsed": false,
    "scrolled": true
   },
   "outputs": [],
   "source": [
    "# print type(response)\n",
    "# print response\n",
    "#print response[\"hits\"]\n",
    "df = pd.read_json(json.dumps(response['aggregations']['time']['buckets']))\n",
    "pd.options.display.max_rows = 4000\n",
    "pd.options.display.max_columns = 200\n",
    "output = df[[\"doc_count\",\"key_as_string\"]]\n",
    "#print(output)"
   ]
  },
  {
   "cell_type": "code",
   "execution_count": 26,
   "metadata": {
    "collapsed": false
   },
   "outputs": [
    {
     "name": "stderr",
     "output_type": "stream",
     "text": [
      "INFO:bokeh.core.state:Session output file 'bar.html' already exists, will be overwritten.\n",
      "WARNING:/usr/local/lib/python2.7/dist-packages/bokeh/core/validation/check.pyc:W-1003 (MALFORMED_CATEGORY_LABEL): Category labels cannot contain colons: [range:x_range] [first_value: Fri Apr 01 00:00:00 +0000 2011] [renderer: Chart, ViewModel:Plot, ref _id: 9f269864-281c-46da-b154-40ccedda6c61]\n",
      "WARNING:/usr/local/lib/python2.7/dist-packages/bokeh/core/validation/check.pyc:W-1003 (MALFORMED_CATEGORY_LABEL): Category labels cannot contain colons: [range:x_range] [first_value: Fri Apr 01 00:00:00 +0000 2011] [renderer: Chart, ViewModel:Plot, ref _id: b7cf87b5-d793-47d5-a4af-62e9cb115baf]\n",
      "WARNING:/usr/local/lib/python2.7/dist-packages/bokeh/core/validation/check.pyc:W-1003 (MALFORMED_CATEGORY_LABEL): Category labels cannot contain colons: [range:x_range] [first_value: Fri Apr 01 00:00:00 +0000 2011] [renderer: Chart, ViewModel:Plot, ref _id: 58bb936f-7507-41d2-95dc-067e21ed5467]\n",
      "WARNING:/usr/local/lib/python2.7/dist-packages/bokeh/core/validation/check.pyc:W-1003 (MALFORMED_CATEGORY_LABEL): Category labels cannot contain colons: [range:x_range] [first_value: Fri Apr 01 00:00:00 +0000 2011] [renderer: Chart, ViewModel:Plot, ref _id: d7f0dea4-1fe2-4465-9f93-22bc7b6afc36]\n"
     ]
    }
   ],
   "source": [
    "p = Bar(output, 'key_as_string', values='doc_count', title=\"Total Tweets by month\")\n",
    "output_file(\"bar.html\")\n",
    "show(p)\n"
   ]
  },
  {
   "cell_type": "code",
   "execution_count": null,
   "metadata": {
    "collapsed": true
   },
   "outputs": [],
   "source": []
  }
 ],
 "metadata": {
  "kernelspec": {
   "display_name": "Python 2",
   "language": "python",
   "name": "python2"
  },
  "language_info": {
   "codemirror_mode": {
    "name": "ipython",
    "version": 2
   },
   "file_extension": ".py",
   "mimetype": "text/x-python",
   "name": "python",
   "nbconvert_exporter": "python",
   "pygments_lexer": "ipython2",
   "version": "2.7.6"
  }
 },
 "nbformat": 4,
 "nbformat_minor": 1
}
